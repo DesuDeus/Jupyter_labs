{
 "cells": [
  {
   "cell_type": "markdown",
   "id": "8577d2d0-f25e-4cca-a0b9-736821c131af",
   "metadata": {},
   "source": [
    "## <font color=green> Welcome to CRE practitioner Python session </font>\n"
   ]
  },
  {
   "cell_type": "markdown",
   "id": "71d25a35-1875-4c17-a4ce-812c88256ea0",
   "metadata": {},
   "source": [
    "***\n",
    "### Agenda\n",
    "\n",
    "#### __I. Introduction__\n",
    "\n",
    "    1. Welcome and Course Overview\n",
    "    2. No Introduction to Python Programming Language -> all you have to know that Python is fun, high-level, dynamicaly typed, object-orientated proggraming language\n",
    "    3. Advantages and Disadvantages of Python\n",
    "\n",
    "#### __II. Environment, Variables, Data Types, and Operators__\n",
    "\n",
    "    1. Setting Up Python Environment (Interpreter, IDEs)\n",
    "        1.1 Pip configuration\n",
    "    2. Variables and Data Types:\n",
    "        2.1 Integers\n",
    "        2.2 Floats\n",
    "        2.3 Booleans\n",
    "        2.4 Strings\n",
    "        2.5 Lists\n",
    "        2.6 Tuples\n",
    "        2.7 Dictionaries\n",
    "        2.8 Sets\n",
    "    3. Variable Naming Conventions and Best Practices (PEP8)\n",
    "    4. Operators\n",
    "        4.1 Relational\n",
    "        4.2 Arythmetic\n",
    "\n",
    "\n",
    "#### __III. Control Flow in Python__\n",
    "    1. Conditional Statements (if, elif, else)\n",
    "    2. Loops (for, while)\n",
    "    3. Loop Control Statements (break, continue)\n",
    "\n",
    "#### __IV. Functions and Modules__\n",
    "    1. Defining Functions\n",
    "    2. Parameters and Arguments\n",
    "        2.1 Python Type Checking\n",
    "        2.2 \"Docstrings\"\n",
    "    3. Return Statement\n",
    "    4. Scope of Variables\n",
    "    5. Built-in Functions vs User-defined Functions\n",
    "    6. Introduction to Modules and Packages\n",
    "    7. Importing Modules and Using External Libraries"
   ]
  },
  {
   "cell_type": "markdown",
   "id": "e25972d5-a803-4da3-8fb2-1b8f013cb5c5",
   "metadata": {},
   "source": [
    "***\n",
    "### Before we begin - some useful stuff that might help\n",
    "\n",
    "> we'll use Jupyter Lab notebooks:<br>\n",
    "use TAB for autocompletion<br>\n",
    "ctrl-i - contextual help<br>\n",
    "ctrl-shift-h - keybard shortcuts<br>\n",
    "type() - returns type of the object<br>\n",
    "id() - returns identifier of an object<br>\n",
    "\n",
    "__it's Python so indentation matters__"
   ]
  },
  {
   "cell_type": "markdown",
   "id": "a30b3274-202a-4440-a661-e2bbe669fd4c",
   "metadata": {},
   "source": [
    "***\n",
    "## __I. Introduction__\n",
    "lets have a 'round the table' introduction:<br>\n",
    "- who we are<br>\n",
    "- what would we like to get from this meeting<br>\n",
    "\n",
    "some of python pros:<br>\n",
    "> * easy to learn, read, write\n",
    "> * versalite\n",
    "> * platform independent\n",
    "\n",
    "and cons\n",
    "> * slow \n",
    "> * GIL - Global Interpreter Lock\n",
    "> * design restrictions - Python's flexibility and dynamic typing can sometimes lead to less robust code, particularly in large projects with multiple developers. Without strict typing and compile-time checks, errors may only be discovered at runtime, leading to potential bugs and maintenance challenges."
   ]
  },
  {
   "cell_type": "markdown",
   "id": "5e9f79a0-95aa-44b2-83ae-2ff8eb6ef8af",
   "metadata": {},
   "source": [
    "***\n",
    "## __II. Environment, Variables, Data Types, and Operators__\n",
    "\n",
    "### __1. Setting Up Python Environment (Interpreter, IDEs)__\n",
    "\n",
    "I assume everyone present has Python installed; if not, I will shortly launch a test environment for conducting exercises.<br>\n",
    "It will be a container with a working 'Jupyter Lab' instance. To work, you'll need a web browser running on 'Citrix'. Anyone needing access to the test environment, please raise your hand. I will send you a URL address and password.<br>\n",
    "Those who have WSL installed on their workstation are encouraged to work in this environment; otherwise, you'll be working on the Windows level.<br>\n",
    "\n",
    "An essential part of these exercises will be installing and/or configuring a Python module called PIP.<br>PIP is a kind of package manager for Python, which I could compare to 'yum' in RHEL or 'apt' in Debian; it allows for easy management of modules and libraries within the project or the entire system."
   ]
  },
  {
   "cell_type": "markdown",
   "id": "21043a3f-5194-40e0-a52f-00dc7a319b4a",
   "metadata": {},
   "source": [
    "***\n",
    "### <font color=red>1.1 PIP configuration</font>\n",
    "\n",
    "`!if you have pip configured or Jupytr Lab already installed, you can skip this part!`\n",
    "\n",
    "check whether you have PIP installed with<br>\n",
    "keep in mind that python executable might be different in your environment python3 <br>\n",
    "> <font color=blue> python -m pip -V </font><br>\n",
    "\n",
    "check your pip configuration with<br>\n",
    "> <font color=blue> python -m pip config list </font><br>\n",
    "\n",
    "on Linux/WSL pip.conf (~/.pip/pip.conf) should be similar to this:<br>\n",
    "> trusted-host = artifactory.itcm.oneadr.net<br>\n",
    "> index-url = https://artifactory.itcm.oneadr.net/api/pypi/pypi-local/simple<br>\n",
    "> extra-index-url = https://artifactory.itcm.oneadr.net/api/pypi/pypi-local/simple<br>\n",
    "\n",
    "on Win pip.ini (%AppData%\\Roaming\\Pip\\pip.ini) should look similar if not the same;<br>\n",
    "when listing pip configuration via PS, each line will be preceded with \"global.\" e.g.<br>\n",
    "> global.index-url = https://artifactory.itcm.oneadr.net/api/pypi/pypi-local/simple\n",
    "\n",
    "having PIP configured we can install our IDE with:\n",
    "> <font color=blue> python -m pip install jupyterlab </font><br>\n",
    "\n",
    "or simply<br>\n",
    "\n",
    "> <font color=blue> pip install jupyterlab </font><br>\n",
    "\n",
    "I suggest to paste the lab file in the HOME dir and start the jupyter notebook from there; type in the terminal:<br>\n",
    "> <font color=blue> cd </font><br>\n",
    "> <font color=blue> jupyter-lab </font><br>"
   ]
  },
  {
   "cell_type": "markdown",
   "id": "99b8df71-00b3-4c79-8d98-d472f9ab5ce7",
   "metadata": {},
   "source": [
    "***\n",
    "### 2. Variables and Data Types\n",
    "\n",
    "\n",
    "Variables:\n",
    "\n",
    "    Variables are used to store data values.\n",
    "    Variable names can contain letters, digits, and underscores, but cannot start with a digit.\n",
    "    Python is dynamically typed, meaning you don't need to declare the type of a variable; it is inferred based on the value assigned to it.\n",
    "\n",
    "Mutable vs Immutable\n",
    "An object is immutable if its state cannot be changed after the object has been created.\n",
    "\n",
    "\n",
    "***\n",
    "#### __2.1 INT__\n",
    "unlimited precision signed integer<br>`IMMUTABLE`\n",
    "\n",
    "Integer literals in Python by default are specified in decimal, \n",
    "one can use the 0b prefix for binary,\n",
    "0o prefix for octal or 0x prefix for hexadecimal\n"
   ]
  },
  {
   "cell_type": "code",
   "execution_count": null,
   "id": "39164a2e-4cf1-4c7a-afc7-01ebee37f5de",
   "metadata": {},
   "outputs": [],
   "source": [
    "print(10, \"decimal\")\n",
    "print(0b10, \"binary\")\n",
    "print(0o10, \"octal\")\n",
    "print(0x10, \"hexadecimal\")"
   ]
  },
  {
   "cell_type": "markdown",
   "id": "09d62578-d86b-4d95-a649-601ba400021b",
   "metadata": {},
   "source": [
    "__we can also use conversion methods:__"
   ]
  },
  {
   "cell_type": "code",
   "execution_count": null,
   "id": "203a0299-b416-40ee-904e-c0a1f29581c3",
   "metadata": {},
   "outputs": [],
   "source": [
    "print(bin(10))\n",
    "print(oct(10))\n",
    "print(hex(10))"
   ]
  },
  {
   "cell_type": "markdown",
   "id": "1cff323e-cd94-4db1-983b-c6ea6a574c8b",
   "metadata": {},
   "source": [
    "__int constructor: int(n)__ can convert strings to integers, as a second argument to the construnctor\n",
    "you can pass the number of the base used for conversion"
   ]
  },
  {
   "cell_type": "code",
   "execution_count": null,
   "id": "7c51ddb3-678c-4172-b984-6823db2e0b77",
   "metadata": {},
   "outputs": [],
   "source": [
    "x = int(\"1000\") #decimal\n",
    "print(x)\n",
    "print(type(x))\n"
   ]
  },
  {
   "cell_type": "code",
   "execution_count": null,
   "id": "4613a0e0-2c39-42cd-91b3-1845759b8752",
   "metadata": {},
   "outputs": [],
   "source": [
    "y = int(\"1000\",2) #binary\n",
    "print(y)\n"
   ]
  },
  {
   "cell_type": "code",
   "execution_count": null,
   "id": "3a783a6b-b65d-47d1-a8a9-c34d53767404",
   "metadata": {},
   "outputs": [],
   "source": [
    "z = int(\"10\",16)\n",
    "print(z)\n"
   ]
  },
  {
   "cell_type": "markdown",
   "id": "c0dfc3e0-92ce-453d-96aa-0fc0420f795c",
   "metadata": {},
   "source": [
    "***\n",
    "#### __2.2 Float__\n",
    "Floating point number<br>`IMMUTABLE`\n",
    "\n",
    "Python floats are double‑precision floating point numbers with 53 bits of binary precision. It's not precise but we can assume that's equivalent to between 15 and 16 significant digits in decimal.<br>\n",
    "Any literal number with a decimal point is a float unless it is explicitly set different - numpy.float can use up to 64bit of decimal precision"
   ]
  },
  {
   "cell_type": "code",
   "execution_count": null,
   "id": "837e08bf-4673-44a3-b6c4-b010871d4f50",
   "metadata": {},
   "outputs": [],
   "source": [
    "euler = 2.71828182845904523536\n",
    "print(type(euler))\n",
    "print(euler) #notice the length of precision"
   ]
  },
  {
   "cell_type": "markdown",
   "id": "336d5a40-2199-4882-a6ab-4713426652d2",
   "metadata": {},
   "source": [
    "__scientific notation in python__"
   ]
  },
  {
   "cell_type": "code",
   "execution_count": null,
   "id": "f8243ee9-33d6-4228-ab83-6934717627e0",
   "metadata": {},
   "outputs": [],
   "source": [
    "speed_of_light = 2.998e+8\n",
    "print(speed_of_light)"
   ]
  },
  {
   "cell_type": "code",
   "execution_count": null,
   "id": "c64450ac-0264-4b6c-b209-0311d7586df2",
   "metadata": {},
   "outputs": [],
   "source": [
    "vacuum_permeability = 1.25664E-06\n",
    "print(type(vacuum_permeability), vacuum_permeability)\n"
   ]
  },
  {
   "cell_type": "markdown",
   "id": "01dc7806-e5e4-4df2-bd4c-f56157891e97",
   "metadata": {},
   "source": [
    "__float constructor: float(n)__<br>\n",
    "we can create floats from strings and integers.<br>"
   ]
  },
  {
   "cell_type": "code",
   "execution_count": null,
   "id": "b8192c55-3894-456d-8c81-914ebd4956cc",
   "metadata": {},
   "outputs": [],
   "source": [
    "pi = '3.14'\n",
    "pi_float = float(pi)\n",
    "print(type(pi_float), pi_float)"
   ]
  },
  {
   "cell_type": "code",
   "execution_count": null,
   "id": "4f17e1ac-f519-4305-9e51-b0f4c82245cd",
   "metadata": {},
   "outputs": [],
   "source": [
    "x = int(1000)\n",
    "print(type(x), x)\n",
    "x_float = float(x)\n",
    "print(type(x_float), x_float)"
   ]
  },
  {
   "cell_type": "code",
   "execution_count": null,
   "id": "7a7c425e-b11b-47a6-a29d-3afbfc9cf7cb",
   "metadata": {},
   "outputs": [],
   "source": [
    "print('{:.10f}'.format(vacuum_permeability))\n",
    "print('{:e}'.format(speed_of_light))"
   ]
  },
  {
   "cell_type": "markdown",
   "id": "cd83017f-a6c1-49c2-861f-b85d099f901a",
   "metadata": {},
   "source": [
    "__when float is cast to int, the precision part is dropped__<br>\n",
    "__the result of any calculation involving an int and float is promoted to float__"
   ]
  },
  {
   "cell_type": "code",
   "execution_count": null,
   "id": "03c4dfa7-e115-4979-ac95-6da4ca38db69",
   "metadata": {},
   "outputs": [],
   "source": [
    "print(int(pi_float))\n",
    "\n",
    "alpha = int(100)\n",
    "beta = 23.0\n",
    "print(type(alpha+beta), alpha+beta)"
   ]
  },
  {
   "cell_type": "markdown",
   "id": "022ac319-7dc2-40b3-9eba-c60104f8b9cd",
   "metadata": {},
   "source": [
    "__float is used to create special values like: nan ('not a number'), positive and negative infinity__"
   ]
  },
  {
   "cell_type": "code",
   "execution_count": null,
   "id": "4b110ccf-1822-48e0-b1a8-9e97ab939a2e",
   "metadata": {},
   "outputs": [],
   "source": [
    "print(float(\"nan\"))\n",
    "print(float(\"inf\"))\n",
    "print(float(\"-inf\"))"
   ]
  },
  {
   "cell_type": "markdown",
   "id": "20449f15-9d1c-42a0-bfc6-f2f888bf517c",
   "metadata": {},
   "source": [
    "***\n",
    "#### __None__\n",
    "Null value, represents absence of a value<br>`IMMUTABLE`\n"
   ]
  },
  {
   "cell_type": "code",
   "execution_count": null,
   "id": "afb4ba83-1376-4c99-a934-2ee53490dfbb",
   "metadata": {},
   "outputs": [],
   "source": [
    "None #Python REPL never prints None results so running this line will have no effect"
   ]
  },
  {
   "cell_type": "markdown",
   "id": "71313ceb-c353-44ab-9942-8a30bded7208",
   "metadata": {},
   "source": [
    "__None can be boud to a variable__"
   ]
  },
  {
   "cell_type": "code",
   "execution_count": null,
   "id": "37a1774f-d3a4-41d1-86a2-2aaf8f6d0d3a",
   "metadata": {},
   "outputs": [],
   "source": [
    "a = None\n",
    "print(type(a), a)\n",
    "print(a is None)\n"
   ]
  },
  {
   "cell_type": "markdown",
   "id": "d19672d1-ed0d-4a5d-85fb-dd02d6117439",
   "metadata": {},
   "source": [
    "***\n",
    "#### __Bool__\n",
    "True or False<br>`IMMUTABLE`\n",
    "<br>\n",
    "__bool constructor: bool(n)__<br>\n",
    "For int and float only '0' (0.0) is considered Falsy while any other value is Truthy.\n",
    "As for collections (strings, lists) one that is empty is considered Falsy, while non-empty collection is Truthy"
   ]
  },
  {
   "cell_type": "code",
   "execution_count": null,
   "id": "d5b42358-a0d6-4896-88fa-ce5df030dc0d",
   "metadata": {},
   "outputs": [],
   "source": [
    "x, y, z = 0, 0.0, \"\"\n",
    "p, q, r = 42, -1.17, \"XD\"\n",
    "print(bool(x), x,'\\n',bool(y), y,'\\n',bool(z), z)\n",
    "print(bool(p), p,'\\n',bool(q), q,'\\n',bool(r), r)"
   ]
  },
  {
   "cell_type": "markdown",
   "id": "517ba2f5-c4c6-43b0-b752-d435f3f9db6c",
   "metadata": {},
   "source": [
    "***\n",
    "#### __2.4 Strings__\n",
    "`IMMUTABLE`\n",
    "\n",
    "Strings are sequences of Unicode code points delimited by quotes "
   ]
  },
  {
   "cell_type": "code",
   "execution_count": null,
   "id": "65c8f2a9-609f-47fe-8c0b-540e0d02333b",
   "metadata": {},
   "outputs": [],
   "source": []
  },
  {
   "cell_type": "markdown",
   "id": "41a75700-721f-43f5-a82d-9c562b7b8de1",
   "metadata": {},
   "source": [
    "***\n",
    "#### __2.5 Lists__\n",
    "`MUTABLE`\n",
    "        "
   ]
  },
  {
   "cell_type": "markdown",
   "id": "289f7b7b-9eec-4d8a-b5c3-b908fa3304f2",
   "metadata": {},
   "source": [
    "***\n",
    "#### __2.6 Tuples__\n",
    "`IMMUTABLE`"
   ]
  },
  {
   "cell_type": "markdown",
   "id": "844f70b6-abab-4897-88dd-a638bfd96a13",
   "metadata": {},
   "source": [
    "#### __2.7 Dictionaries__\n",
    "`MUTABLE`"
   ]
  },
  {
   "cell_type": "markdown",
   "id": "1061b87c-5638-46e7-99a2-e5ee94808baf",
   "metadata": {},
   "source": [
    "#### __2.8 Sets__\n",
    "unordered collection of items, no dublicates allowed.<br>\n",
    "`MUTABLE`\n",
    "\n"
   ]
  },
  {
   "cell_type": "code",
   "execution_count": null,
   "id": "e5835f20-2efa-434f-b793-7571db6d8d59",
   "metadata": {},
   "outputs": [],
   "source": [
    "fruit = {'apple','banana','pear','apple'}\n",
    "print(fruit)\n",
    "print('orange' in fruit)"
   ]
  },
  {
   "cell_type": "code",
   "execution_count": null,
   "id": "3681248d-5841-4e0d-9e2a-aabefd10cfec",
   "metadata": {},
   "outputs": [],
   "source": [
    "fruit.add('orange')\n",
    "print('orange' in fruit)"
   ]
  },
  {
   "cell_type": "markdown",
   "id": "eb7576fe-cb30-4f36-8083-1bba11cc7af5",
   "metadata": {},
   "source": [
    "### 3. Variable Naming Conventions and Best Practices (PEP8)"
   ]
  },
  {
   "cell_type": "code",
   "execution_count": null,
   "id": "d64c94b0-f760-4b36-bb1a-9fdb964d795c",
   "metadata": {},
   "outputs": [],
   "source": [
    "import this"
   ]
  },
  {
   "cell_type": "markdown",
   "id": "1731bc9e-b8ef-4768-84c7-d5599d518f7e",
   "metadata": {},
   "source": [
    "suggested convention:<br>\n",
    "`function, method, variable, module` -> lowercase words or letters with underscores as separator<br>\n",
    "`constant` -> uppercase words or leters with underscores as separator<br>\n",
    "`class` -> camel case<br>\n",
    "`package` -> lowercase word or words, no underscores<be>"
   ]
  },
  {
   "cell_type": "code",
   "execution_count": null,
   "id": "fb1fa919-3f09-4d8d-becd-b5e9ad0c6ce2",
   "metadata": {},
   "outputs": [],
   "source": [
    "#not recommended\n",
    "f = \"John Doe\"\n",
    "g, h = f.split(' ')\n",
    "print(f'{g}\\n{h}')"
   ]
  },
  {
   "cell_type": "code",
   "execution_count": null,
   "id": "aa55417b-48a9-40b5-8149-5d4730522bed",
   "metadata": {},
   "outputs": [],
   "source": []
  },
  {
   "cell_type": "markdown",
   "id": "e186bc28-6285-4fad-a585-1a5077133653",
   "metadata": {},
   "source": [
    "### 4. Operators\n",
    "\n",
    "#### __4.1 Relational__\n",
    "\n",
    "\n",
    "| Operator | meaning |\n",
    "|----------|---------|\n",
    "| ==       |value equality|\n",
    "| !=       |value inequality|\n",
    "| <        |less-than|\n",
    "| >        |greater-than|\n",
    "| <=       |less-than or equal|\n",
    "| >=       |greater-than|\n",
    "\n",
    "#### __4.2 Arythmetic__\n",
    "\n",
    "| Operator | meaning      | Example | Result |\n",
    "|----------|--------------|---------|--------|\n",
    "| +        |Addition      | $3+5$     | 8 |\n",
    "| -        |Subtraction   | $7-4$     | 3 |\n",
    "| *        |Multiplication| $3*4$     | 12 |   \n",
    "| /        |Division      | $12/6$    | 2 |\n",
    "| %        |Modulus       | $6$ % $4$     | 2 |\n",
    "| **       |Exponentiation| $2**4$    | 16 |\n",
    "| //       |Floor division| $5//2$    | 2 |\n",
    "\n",
    "there are other types of operator like assignement, logical and bitwise, but let's skip that for now.\n",
    "Python evaluates expression in a defined order. Obviously multiplication comes before addition but __`parentheses ()`__ have the highest precedence, so whenever doubt, use them.\n"
   ]
  },
  {
   "cell_type": "code",
   "execution_count": null,
   "id": "1abee326-7072-404e-8d3c-c9a1fca62f5e",
   "metadata": {},
   "outputs": [],
   "source": [
    " print(2+3*4)\n",
    " print((2+3)*4)"
   ]
  },
  {
   "cell_type": "markdown",
   "id": "1778abd3-b8f0-4de9-9257-d2e7dd318295",
   "metadata": {},
   "source": [
    "***\n",
    "## __III. Control Flow in Python__\n",
    "\n",
    "### 1. Conditional Statements (if, elif, else)\n",
    "Branch execution based on the value of an expression\n",
    "\n",
    "```python\n",
    "if expression:\n",
    "    block\n",
    "elif expression:\n",
    "    block\n",
    "else:\n",
    "    block\n",
    "```"
   ]
  },
  {
   "cell_type": "code",
   "execution_count": null,
   "id": "1e886a10-e61a-40d6-8eec-5a695130086e",
   "metadata": {},
   "outputs": [],
   "source": [
    "if True:\n",
    "    print(\"it's true\") "
   ]
  },
  {
   "cell_type": "code",
   "execution_count": null,
   "id": "df79ec2d-06df-454e-bbf3-d8a7dde5ab90",
   "metadata": {},
   "outputs": [],
   "source": [
    "#elif-else clouse\n",
    "a = 3\n",
    "b = int(input('provide an int: '))\n",
    "if a>b:\n",
    "    print(f'{a} is greater than {b}')\n",
    "elif a<b:\n",
    "    print(f'{a} is smaller than {b}')\n",
    "else:\n",
    "    print(f'{a} is equal to {b}')"
   ]
  },
  {
   "cell_type": "markdown",
   "id": "a97f634f-e525-4322-8ede-0adb7e03766b",
   "metadata": {},
   "source": [
    "### 2. Loops (while, for)x\n",
    "\n",
    "#### while\n",
    "```python\n",
    "while expression\n",
    "    block\n",
    "```\n",
    "\n",
    "expression is converted to bool and loop keeps going while condition is met."
   ]
  },
  {
   "cell_type": "code",
   "execution_count": null,
   "id": "f652a96d-3383-485b-bbdf-ff5eaea6a9b9",
   "metadata": {},
   "outputs": [],
   "source": [
    "counter = 4\n",
    "while counter != 0:\n",
    "    print(counter)\n",
    "    counter -=1"
   ]
  },
  {
   "cell_type": "code",
   "execution_count": null,
   "id": "4b6c115a-b97b-4675-8322-4f83c0653410",
   "metadata": {},
   "outputs": [],
   "source": [
    "counter = 4\n",
    "while bool(counter):\n",
    "    print(counter)\n",
    "    counter -=1\n"
   ]
  },
  {
   "cell_type": "markdown",
   "id": "551a00be-720b-4324-ad90-affbd558a055",
   "metadata": {},
   "source": [
    "### 3. Loop Control Statements (break, continue)\n",
    "\n",
    "* `break` is used to simply break out of the loop\n",
    "* `continue` is used to skip the block after the predicate and start another iteration of the loop"
   ]
  },
  {
   "cell_type": "markdown",
   "id": "6a97e4f8-1da3-4a44-9509-9a35864ac78f",
   "metadata": {},
   "source": [
    "```python\n",
    "while expression:\n",
    "    if expression:\n",
    "        continue\n",
    "    if expression:\n",
    "        break\n",
    "```"
   ]
  },
  {
   "cell_type": "code",
   "execution_count": null,
   "id": "7d090fe0-28f4-4a40-9a5e-39d46a8842d0",
   "metadata": {},
   "outputs": [],
   "source": [
    "#exercise 1:\n",
    "#substitute '________' with a conditional statement\n",
    "#continue statment should be executed if input is even\n",
    "#break is executed when input can be divide without rest by 7\n",
    "\n",
    "counter = 0\n",
    "while True:\n",
    "    x = input()\n",
    "    if ________:\n",
    "        continue\n",
    "    if ________:\n",
    "        break\n",
    "    print(f'{x} is odd')"
   ]
  },
  {
   "cell_type": "code",
   "execution_count": 8,
   "id": "5886f1ba-d8ae-4ad9-b8f6-e1575b9bacf0",
   "metadata": {},
   "outputs": [
    {
     "name": "stdin",
     "output_type": "stream",
     "text": [
      " 2\n",
      " 3\n"
     ]
    },
    {
     "name": "stdout",
     "output_type": "stream",
     "text": [
      "3 is odd\n"
     ]
    },
    {
     "name": "stdin",
     "output_type": "stream",
     "text": [
      " 7\n"
     ]
    }
   ],
   "source": [
    "counter = 0\n",
    "while True:\n",
    "    x = input()\n",
    "    if int(x) % 2 == 0:\n",
    "        continue\n",
    "    if int(x) % 7 == 0:\n",
    "        break\n",
    "    print(f'{x} is odd')"
   ]
  },
  {
   "cell_type": "markdown",
   "id": "384cc258-b66f-454f-b1c9-f58368c01c9e",
   "metadata": {},
   "source": [
    "***\n",
    "* What is GIL?\n",
    "\n",
    "The Global Interpreter Lock (GIL) is a mutex (or lock) that protects access to Python objects, preventing multiple native threads from executing Python bytecodes simultaneously in a single process. In other words, the GIL ensures that only one thread executes Python bytecode at any given time, even in a multi-threaded environment.\n",
    "\n",
    "* What id PEP\n",
    "\n",
    "PEP - Python Enchacement Proposals - is a design document providing information to the Python community, or describing a new feature for Python or its processes or environment.\n",
    "\n",
    "* "
   ]
  }
 ],
 "metadata": {
  "kernelspec": {
   "display_name": "Python 3 (ipykernel)",
   "language": "python",
   "name": "python3"
  },
  "language_info": {
   "codemirror_mode": {
    "name": "ipython",
    "version": 3
   },
   "file_extension": ".py",
   "mimetype": "text/x-python",
   "name": "python",
   "nbconvert_exporter": "python",
   "pygments_lexer": "ipython3",
   "version": "3.10.12"
  }
 },
 "nbformat": 4,
 "nbformat_minor": 5
}
